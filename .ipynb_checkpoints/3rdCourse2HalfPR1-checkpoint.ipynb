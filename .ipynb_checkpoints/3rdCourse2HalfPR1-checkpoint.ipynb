{
 "cells": [
  {
   "cell_type": "code",
   "execution_count": 111,
   "metadata": {},
   "outputs": [],
   "source": [
    "from math import ceil\n",
    "from math import fabs\n",
    "from math import log10\n",
    "from math import log2"
   ]
  },
  {
   "cell_type": "code",
   "execution_count": 112,
   "metadata": {},
   "outputs": [],
   "source": [
    "def KillProcess(inputString):\n",
    "    print(\"Для выхода напишите '/n'\")\n",
    "    if(inputString == \"/n\"):\n",
    "        Menu()"
   ]
  },
  {
   "cell_type": "code",
   "execution_count": 113,
   "metadata": {},
   "outputs": [],
   "source": [
    "def Calculator():\n",
    "    try:\n",
    "        print('Введите первое число.');\n",
    "        FirstNumber = int(input());\n",
    "        print('Введите второе число');\n",
    "        SecondNumber = int(input());\n",
    "        print('Введите требуемый знак.');\n",
    "        FunctionSign = input();\n",
    "        if(FunctionSign == '+'):\n",
    "            return FirstNumber + SecondNumber;\n",
    "        elif(FunctionSign == '-'):\n",
    "            return FirstNumber - SecondNumber;\n",
    "        elif(FunctionSign == '*'):\n",
    "            return FirstNumber * SecondNumber;\n",
    "        elif(FunctionSign == '**'):\n",
    "            return FirstNumber ** SecondNumber;\n",
    "        elif(FunctionSign == '/'):\n",
    "            return FirstNumber / SecondNumber;\n",
    "        elif(FunctionSign == '//'):\n",
    "            return FirstNumber // SecondNumber;\n",
    "        elif(FunctionSign == '%'):\n",
    "            return FirstNumber % SecondNumber;\n",
    "        else:\n",
    "            return(\"Wrong sign\")\n",
    "    except:\n",
    "        print(\"Error\")"
   ]
  },
  {
   "cell_type": "code",
   "execution_count": 114,
   "metadata": {},
   "outputs": [],
   "source": [
    "def CountCharInString():\n",
    "    try:\n",
    "        print('Введите строку.');\n",
    "        originalString = input();\n",
    "        countChars = 0;\n",
    "        countSpaces = 0;\n",
    "        countCommas = 0;\n",
    "        for originalChar in originalString:\n",
    "            countChars = countChars + 1;\n",
    "            if(originalChar==\" \"):\n",
    "                countSpaces = countSpaces + 1;\n",
    "            elif(originalChar== \",\"):\n",
    "                countCommas = countCommas + 1;\n",
    "            else:\n",
    "                countChars = countChars + 1;\n",
    "        print(f\"Всего символов: {countChars}\")\n",
    "        print(f\"Всего запятых: {countCommas}\")\n",
    "        print(f\"Всего пробелов: {countSpaces}\")\n",
    "\n",
    "    except:\n",
    "        print(\"Error\")"
   ]
  },
  {
   "cell_type": "code",
   "execution_count": 115,
   "metadata": {},
   "outputs": [],
   "source": [
    "def CreateMatrix():\n",
    "    \n",
    "        print(\"Введите количество колон\")\n",
    "        matrixColumns = int(input());\n",
    "        print(\"Введите количество строк\")\n",
    "        matrixRows = int(input());\n",
    "        print(\"Введите стартовое значение\")\n",
    "        matrixStart = int(input());\n",
    "        print(\"Введите шаг матрицы\")\n",
    "        matrixStep = int(input());\n",
    "\n",
    "        A = [ [0]*matrixRows for i in range(matrixColumns) ]\n",
    "\n",
    "        for i in range(matrixColumns):\n",
    "            for j in range(matrixRows):\n",
    "                if(i==0 & j == 0):\n",
    "                    A[i][j] = matrixStart\n",
    "                else:\n",
    "                    A[i][j] = matrixStart\n",
    "                matrixStart = matrixStart + matrixStep\n",
    "\n",
    "        for i in range(len(A)):         \n",
    "            for j in range(len(A[i])):  \n",
    "                print(A[i][j], end = ' ')\n",
    "            print()                     \n",
    "\n",
    "        \n"
   ]
  },
  {
   "cell_type": "code",
   "execution_count": 116,
   "metadata": {},
   "outputs": [],
   "source": [
    "def Menu():\n",
    "    try:\n",
    "        print('Введите номер функции: 1 - калькулятор, 2 - подсчет в строке, 3 - матрица.');\n",
    "        FunctionNumber = int(input())\n",
    "        print(f\"Вы выбрали функцию {FunctionNumber}\");\n",
    "        if(FunctionNumber==1):\n",
    "            print(Calculator());\n",
    "            Menu();\n",
    "        elif(FunctionNumber==2):\n",
    "            CountCharInString();\n",
    "            Menu();\n",
    "        elif(FunctionNumber==3):\n",
    "            CreateMatrix();\n",
    "            Menu();\n",
    "    except:\n",
    "            print(\"Error\")"
   ]
  },
  {
   "cell_type": "markdown",
   "metadata": {
    "scrolled": false
   },
   "source": [
    "Menu()"
   ]
  }
 ],
 "metadata": {
  "interpreter": {
   "hash": "ae0c3f29f6717127eeb0478e1269490f065a5b5c685a044e1609264ecf45b36c"
  },
  "kernelspec": {
   "display_name": "Python 3 (ipykernel)",
   "language": "python",
   "name": "python3"
  },
  "language_info": {
   "codemirror_mode": {
    "name": "ipython",
    "version": 3
   },
   "file_extension": ".py",
   "mimetype": "text/x-python",
   "name": "python",
   "nbconvert_exporter": "python",
   "pygments_lexer": "ipython3",
   "version": "3.9.7"
  }
 },
 "nbformat": 4,
 "nbformat_minor": 2
}
